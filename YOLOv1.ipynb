{
 "cells": [
  {
   "cell_type": "code",
   "execution_count": 1,
   "metadata": {
    "collapsed": true
   },
   "outputs": [
    {
     "name": "stderr",
     "output_type": "stream",
     "text": [
      "Using TensorFlow backend.\n"
     ]
    }
   ],
   "source": [
    "import keras\n",
    "import matplotlib\n",
    "import pydot\n",
    "import pydot_ng as pdng\n",
    "import graphviz\n",
    "matplotlib.use('Agg')\n",
    "import matplotlib.pyplot as plt\n",
    "from keras.models import Sequential\n",
    "from keras.layers import Dense, Activation, Dropout, Flatten, Conv2D, MaxPooling2D\n",
    "from keras.layers.normalization import BatchNormalization\n",
    "import numpy as np\n",
    "import Loader\n",
    "import talos\n",
    "import tensorflow\n",
    "#Globals\n",
    "FRAME = 448\n",
    "RGB = 3\n",
    "PATH = 'D://IMGBUF2/'\n",
    "MULT = True\n",
    "CLASS = 3\n",
    "PARTS = 3\n",
    "EP = 3\n",
    "BATCH = 128\n",
    "NUM = 32\n",
    "GRIDS = 7\n",
    "ANCHOR = 2\n",
    "BOX = 5\n",
    "np.random.seed(1000)\n",
    "PARAMETERS = {\n",
    "    'batch_size': [32,64,128,256,512,900,1800],\n",
    "    'epochs': [3, 4,10,20],\n",
    "    'optimizer': ['Adam', 'SGD']\n",
    "}\n"
   ]
  },
  {
   "cell_type": "code",
   "execution_count": 2,
   "metadata": {
    "collapsed": true
   },
   "outputs": [
    {
     "name": "stdout",
     "output_type": "stream",
     "text": [
      "LOADED "
     ]
    },
    {
     "name": "stdout",
     "output_type": "stream",
     "text": [
      " "
     ]
    },
    {
     "name": "stdout",
     "output_type": "stream",
     "text": [
      "D://IMGBUF2/data0part0.npy"
     ]
    },
    {
     "name": "stdout",
     "output_type": "stream",
     "text": [
      "\n"
     ]
    },
    {
     "name": "stdout",
     "output_type": "stream",
     "text": [
      "LOADED "
     ]
    },
    {
     "name": "stdout",
     "output_type": "stream",
     "text": [
      " "
     ]
    },
    {
     "name": "stdout",
     "output_type": "stream",
     "text": [
      "D://IMGBUF2/data1part0.npy"
     ]
    },
    {
     "name": "stdout",
     "output_type": "stream",
     "text": [
      "\n"
     ]
    },
    {
     "name": "stdout",
     "output_type": "stream",
     "text": [
      "LOADED "
     ]
    },
    {
     "name": "stdout",
     "output_type": "stream",
     "text": [
      " "
     ]
    },
    {
     "name": "stdout",
     "output_type": "stream",
     "text": [
      "D://IMGBUF2/data2part0.npy"
     ]
    },
    {
     "name": "stdout",
     "output_type": "stream",
     "text": [
      "\n"
     ]
    },
    {
     "name": "stdout",
     "output_type": "stream",
     "text": [
      "LOADED "
     ]
    },
    {
     "name": "stdout",
     "output_type": "stream",
     "text": [
      " "
     ]
    },
    {
     "name": "stdout",
     "output_type": "stream",
     "text": [
      "D://IMGBUF2/data0part1.npy"
     ]
    },
    {
     "name": "stdout",
     "output_type": "stream",
     "text": [
      "\n"
     ]
    },
    {
     "name": "stdout",
     "output_type": "stream",
     "text": [
      "LOADED "
     ]
    },
    {
     "name": "stdout",
     "output_type": "stream",
     "text": [
      " "
     ]
    },
    {
     "name": "stdout",
     "output_type": "stream",
     "text": [
      "D://IMGBUF2/data1part1.npy"
     ]
    },
    {
     "name": "stdout",
     "output_type": "stream",
     "text": [
      "\n"
     ]
    },
    {
     "name": "stdout",
     "output_type": "stream",
     "text": [
      "LOADED "
     ]
    },
    {
     "name": "stdout",
     "output_type": "stream",
     "text": [
      " "
     ]
    },
    {
     "name": "stdout",
     "output_type": "stream",
     "text": [
      "D://IMGBUF2/data2part1.npy"
     ]
    },
    {
     "name": "stdout",
     "output_type": "stream",
     "text": [
      "\n"
     ]
    },
    {
     "name": "stdout",
     "output_type": "stream",
     "text": [
      "LOADED "
     ]
    },
    {
     "name": "stdout",
     "output_type": "stream",
     "text": [
      " "
     ]
    },
    {
     "name": "stdout",
     "output_type": "stream",
     "text": [
      "D://IMGBUF2/data0part2.npy"
     ]
    },
    {
     "name": "stdout",
     "output_type": "stream",
     "text": [
      "\n"
     ]
    },
    {
     "name": "stdout",
     "output_type": "stream",
     "text": [
      "LOADED "
     ]
    },
    {
     "name": "stdout",
     "output_type": "stream",
     "text": [
      " "
     ]
    },
    {
     "name": "stdout",
     "output_type": "stream",
     "text": [
      "D://IMGBUF2/data1part2.npy"
     ]
    },
    {
     "name": "stdout",
     "output_type": "stream",
     "text": [
      "\n"
     ]
    },
    {
     "name": "stdout",
     "output_type": "stream",
     "text": [
      "LOADED "
     ]
    },
    {
     "name": "stdout",
     "output_type": "stream",
     "text": [
      " "
     ]
    },
    {
     "name": "stdout",
     "output_type": "stream",
     "text": [
      "D://IMGBUF2/data2part2.npy"
     ]
    },
    {
     "name": "stdout",
     "output_type": "stream",
     "text": [
      "\n"
     ]
    }
   ],
   "source": [
    "\n",
    "#Data Loading for Alexnet\n",
    "X, Y = Loader.data_load(CLASS,PARTS,PATH, multi=True)\n",
    "\n",
    "#X = Loader.histogram(X, NUM, net=True)\n",
    "#FRAME = NUM\n",
    "\n",
    "#X, TRAIN, TEST = Loader.preproc(X, reshape=False, normalize=False)\n",
    "#X_train = np.copy(X[TRAIN])\n",
    "#X_test = np.copy(X[TEST])\n"
   ]
  },
  {
   "cell_type": "code",
   "execution_count": 2,
   "metadata": {},
   "outputs": [],
   "source": [
    "# Instantiate an empty model\n",
    "model = Sequential()\n",
    "\n",
    "# 1 Convolutional Layer\n",
    "model.add(Conv2D(filters=64, input_shape=(FRAME, FRAME, RGB),\n",
    "                 kernel_size=(7, 7), strides=(2, 2), padding='valid'))\n",
    "model.add(Activation('relu'))\n",
    "model.add(keras.layers.ZeroPadding2D(padding=(1, 1)))\n",
    "# 1 Max Pooling\n",
    "model.add(MaxPooling2D(pool_size=(2, 2), strides=(2, 2), padding='valid'))\n",
    "\n",
    "# 2 Convolutional layer\n",
    "model.add(Conv2D(filters=192, kernel_size=(3, 3),\n",
    "                 strides=(1, 1), padding='valid'))\n",
    "model.add(Activation('relu'))\n",
    "model.add(keras.layers.ZeroPadding2D(padding=(1, 1)))\n",
    "# 2 Max Pooling\n",
    "model.add(MaxPooling2D(pool_size=(2, 2), strides=(2, 2), padding='valid'))\n",
    "\n",
    "# 3 Convolutional Layer\n",
    "model.add(Conv2D(filters=128, kernel_size=(1, 1),\n",
    "                 strides=(1, 1), padding='valid'))\n",
    "model.add(Activation('relu'))\n",
    "model.add(keras.layers.ZeroPadding2D(padding=(1, 1)))\n",
    "\n",
    "#4 Convolutional Layer\n",
    "model.add(Conv2D(filters=256, kernel_size=(3, 3),\n",
    "                 strides=(1, 1), padding='valid'))\n",
    "model.add(Activation('relu'))\n",
    "model.add(keras.layers.ZeroPadding2D(padding=(1, 1)))\n",
    "# 5 Convolutional Layer\n",
    "model.add(Conv2D(filters=256, kernel_size=(1, 1),\n",
    "                 strides=(1, 1), padding='valid'))\n",
    "model.add(Activation('relu'))\n",
    "model.add(keras.layers.ZeroPadding2D(padding=(1, 1)))\n",
    "# 6 Convolutional Layer\n",
    "model.add(Conv2D(filters=512, kernel_size=(3, 3),\n",
    "                 strides=(1, 1), padding='valid'))\n",
    "model.add(Activation('relu'))\n",
    "model.add(keras.layers.ZeroPadding2D(padding=(1, 1)))\n",
    "# 3 Max Pooling\n",
    "model.add(MaxPooling2D(pool_size=(2, 2), strides=(2, 2), padding='valid'))\n",
    "\n",
    "# 7 Convolutoinal Layer\n",
    "model.add(Conv2D(filters=256, kernel_size=(1, 1),\n",
    "                 strides=(1, 1), padding='valid'))\n",
    "model.add(Activation('relu'))\n",
    "model.add(keras.layers.ZeroPadding2D(padding=(1, 1)))\n",
    "# 8 Convolutional Layer\n",
    "model.add(Conv2D(filters=512, kernel_size=(3, 3),\n",
    "                 strides=(1, 1), padding='valid'))\n",
    "model.add(Activation('relu'))\n",
    "model.add(keras.layers.ZeroPadding2D(padding=(1, 1)))\n",
    "# 9 Convolutoinal Layer\n",
    "model.add(Conv2D(filters=256, kernel_size=(1, 1),\n",
    "                 strides=(1, 1), padding='valid'))\n",
    "model.add(Activation('relu'))\n",
    "model.add(keras.layers.ZeroPadding2D(padding=(1, 1)))\n",
    "# 10 Convolutional Layer\n",
    "model.add(Conv2D(filters=512, kernel_size=(3, 3),\n",
    "                 strides=(1, 1), padding='valid'))\n",
    "model.add(Activation('relu'))\n",
    "model.add(keras.layers.ZeroPadding2D(padding=(1, 1)))\n",
    "# 11 Convolutoinal Layer\n",
    "model.add(Conv2D(filters=256, kernel_size=(1, 1),\n",
    "                 strides=(1, 1), padding='valid'))\n",
    "model.add(Activation('relu'))\n",
    "model.add(keras.layers.ZeroPadding2D(padding=(1, 1)))\n",
    "# 12 Convolutional Layer\n",
    "model.add(Conv2D(filters=512, kernel_size=(3, 3),\n",
    "                 strides=(1, 1), padding='valid'))\n",
    "model.add(Activation('relu'))\n",
    "# 13 Convolutoinal Layer\n",
    "model.add(Conv2D(filters=256, kernel_size=(1, 1),\n",
    "                 strides=(1, 1), padding='valid'))\n",
    "model.add(Activation('relu'))\n",
    "model.add(keras.layers.ZeroPadding2D(padding=(1, 1)))\n",
    "# 14 Convolutional Layer\n",
    "model.add(Conv2D(filters=512, kernel_size=(3, 3),\n",
    "                 strides=(1, 1), padding='valid'))\n",
    "model.add(Activation('relu'))\n",
    "model.add(keras.layers.ZeroPadding2D(padding=(1, 1)))\n",
    "# 15 Convolutional Layer\n",
    "model.add(Conv2D(filters=512, kernel_size=(1, 1),\n",
    "                 strides=(1, 1), padding='valid'))\n",
    "model.add(Activation('relu'))\n",
    "model.add(keras.layers.ZeroPadding2D(padding=(1, 1)))\n",
    "# 16 Convolutional Layer\n",
    "model.add(Conv2D(filters=1024, kernel_size=(3, 3),\n",
    "                 strides=(1, 1), padding='valid'))\n",
    "model.add(Activation('relu'))\n",
    "model.add(keras.layers.ZeroPadding2D(padding=(1, 1)))\n",
    "# 4 Max pooling\n",
    "model.add(MaxPooling2D(pool_size=(2, 2), strides=(2, 2), padding='valid'))\n",
    "\n",
    "# 17 Convolutional Layer\n",
    "model.add(Conv2D(filters=512, kernel_size=(1, 1),\n",
    "                 strides=(1, 1), padding='valid'))\n",
    "model.add(Activation('relu'))\n",
    "model.add(keras.layers.ZeroPadding2D(padding=(1, 1)))\n",
    "# 18 Convolutional Layer\n",
    "model.add(Conv2D(filters=1024, kernel_size=(3, 3),\n",
    "                 strides=(1, 1), padding='valid'))\n",
    "model.add(Activation('relu'))\n",
    "model.add(keras.layers.ZeroPadding2D(padding=(1, 1)))\n",
    "# 19 Convolutional Layer\n",
    "model.add(Conv2D(filters=512, kernel_size=(1, 1),\n",
    "                 strides=(1, 1), padding='valid'))\n",
    "model.add(Activation('relu'))\n",
    "model.add(keras.layers.ZeroPadding2D(padding=(1, 1)))\n",
    "# 20 Convolutional Layer\n",
    "model.add(Conv2D(filters=1024, kernel_size=(3, 3),\n",
    "                 strides=(1, 1), padding='valid'))\n",
    "model.add(Activation('relu'))\n",
    "model.add(keras.layers.ZeroPadding2D(padding=(1, 1)))\n",
    "# 21 Convolutinal Layer\n",
    "model.add(Conv2D(filters=1024, kernel_size=(3, 3),\n",
    "                 strides=(1, 1), padding='valid'))\n",
    "model.add(Activation('relu'))\n",
    "model.add(keras.layers.ZeroPadding2D(padding=(1, 1)))\n",
    "# 22 Convolutional Layer\n",
    "model.add(Conv2D(filters=1024, kernel_size=(3, 3),\n",
    "                 strides=(2, 2), padding='valid'))\n",
    "model.add(Activation('relu'))\n",
    "model.add(keras.layers.ZeroPadding2D(padding=(1, 1)))\n",
    "# 23 Convolutional Layer\n",
    "model.add(Conv2D(filters=1024, kernel_size=(3, 3),\n",
    "                 strides=(1, 1), padding='valid'))\n",
    "model.add(Activation('relu'))\n",
    "model.add(keras.layers.ZeroPadding2D(padding=(1, 1)))\n",
    "# 24 Convolutional Layer\n",
    "model.add(Conv2D(filters=1024, kernel_size=(3, 3),\n",
    "                 strides=(1, 1), padding='valid'))\n",
    "model.add(Activation('relu'))\n",
    "model.add(keras.layers.ZeroPadding2D(padding=(1, 1)))\n",
    "# Flattening\n",
    "model.add(Flatten())\n",
    "\n",
    "# 1 Dense Layer\n",
    "model.add(Dense(4096))\n",
    "model.add(Activation('relu'))\n",
    "\n",
    "# Output Layer\n",
    "Layer = keras.layers.Dense(GRIDS * GRIDS * ANCHOR * BOX)\n",
    "model.add(Layer)\n",
    "Layer = keras.layers.Reshape((GRIDS, GRIDS, ANCHOR * BOX))\n",
    "model.add(Layer)\n",
    "model.add(Activation('relu'))"
   ]
  },
  {
   "cell_type": "code",
   "execution_count": null,
   "metadata": {
    "collapsed": false
   },
   "outputs": [
    {
     "name": "stdout",
     "output_type": "stream",
     "text": [
      "_________________________________________________________________"
     ]
    },
    {
     "name": "stdout",
     "output_type": "stream",
     "text": [
      "\n"
     ]
    },
    {
     "name": "stdout",
     "output_type": "stream",
     "text": [
      "Layer (type)                 Output Shape              Param #   "
     ]
    },
    {
     "name": "stdout",
     "output_type": "stream",
     "text": [
      "\n"
     ]
    },
    {
     "name": "stdout",
     "output_type": "stream",
     "text": [
      "================================================================="
     ]
    },
    {
     "name": "stdout",
     "output_type": "stream",
     "text": [
      "\n"
     ]
    },
    {
     "name": "stdout",
     "output_type": "stream",
     "text": [
      "conv2d_1 (Conv2D)            (None, 221, 221, 64)      9472      "
     ]
    },
    {
     "name": "stdout",
     "output_type": "stream",
     "text": [
      "\n"
     ]
    },
    {
     "name": "stdout",
     "output_type": "stream",
     "text": [
      "_________________________________________________________________"
     ]
    },
    {
     "name": "stdout",
     "output_type": "stream",
     "text": [
      "\n"
     ]
    },
    {
     "name": "stdout",
     "output_type": "stream",
     "text": [
      "activation_1 (Activation)    (None, 221, 221, 64)      0         "
     ]
    },
    {
     "name": "stdout",
     "output_type": "stream",
     "text": [
      "\n"
     ]
    },
    {
     "name": "stdout",
     "output_type": "stream",
     "text": [
      "_________________________________________________________________"
     ]
    },
    {
     "name": "stdout",
     "output_type": "stream",
     "text": [
      "\n"
     ]
    },
    {
     "name": "stdout",
     "output_type": "stream",
     "text": [
      "zero_padding2d_1 (ZeroPaddin (None, 223, 223, 64)      0         "
     ]
    },
    {
     "name": "stdout",
     "output_type": "stream",
     "text": [
      "\n"
     ]
    },
    {
     "name": "stdout",
     "output_type": "stream",
     "text": [
      "_________________________________________________________________"
     ]
    },
    {
     "name": "stdout",
     "output_type": "stream",
     "text": [
      "\n"
     ]
    },
    {
     "name": "stdout",
     "output_type": "stream",
     "text": [
      "max_pooling2d_1 (MaxPooling2 (None, 111, 111, 64)      0         "
     ]
    },
    {
     "name": "stdout",
     "output_type": "stream",
     "text": [
      "\n"
     ]
    },
    {
     "name": "stdout",
     "output_type": "stream",
     "text": [
      "_________________________________________________________________"
     ]
    },
    {
     "name": "stdout",
     "output_type": "stream",
     "text": [
      "\n"
     ]
    },
    {
     "name": "stdout",
     "output_type": "stream",
     "text": [
      "conv2d_2 (Conv2D)            (None, 109, 109, 192)     110784    "
     ]
    },
    {
     "name": "stdout",
     "output_type": "stream",
     "text": [
      "\n"
     ]
    },
    {
     "name": "stdout",
     "output_type": "stream",
     "text": [
      "_________________________________________________________________"
     ]
    },
    {
     "name": "stdout",
     "output_type": "stream",
     "text": [
      "\n"
     ]
    },
    {
     "name": "stdout",
     "output_type": "stream",
     "text": [
      "activation_2 (Activation)    (None, 109, 109, 192)     0         "
     ]
    },
    {
     "name": "stdout",
     "output_type": "stream",
     "text": [
      "\n"
     ]
    },
    {
     "name": "stdout",
     "output_type": "stream",
     "text": [
      "_________________________________________________________________"
     ]
    },
    {
     "name": "stdout",
     "output_type": "stream",
     "text": [
      "\n"
     ]
    },
    {
     "name": "stdout",
     "output_type": "stream",
     "text": [
      "zero_padding2d_2 (ZeroPaddin (None, 111, 111, 192)     0         "
     ]
    },
    {
     "name": "stdout",
     "output_type": "stream",
     "text": [
      "\n"
     ]
    },
    {
     "name": "stdout",
     "output_type": "stream",
     "text": [
      "_________________________________________________________________"
     ]
    },
    {
     "name": "stdout",
     "output_type": "stream",
     "text": [
      "\n"
     ]
    },
    {
     "name": "stdout",
     "output_type": "stream",
     "text": [
      "max_pooling2d_2 (MaxPooling2 (None, 55, 55, 192)       0         "
     ]
    },
    {
     "name": "stdout",
     "output_type": "stream",
     "text": [
      "\n"
     ]
    },
    {
     "name": "stdout",
     "output_type": "stream",
     "text": [
      "_________________________________________________________________"
     ]
    },
    {
     "name": "stdout",
     "output_type": "stream",
     "text": [
      "\n"
     ]
    },
    {
     "name": "stdout",
     "output_type": "stream",
     "text": [
      "conv2d_3 (Conv2D)            (None, 55, 55, 128)       24704     "
     ]
    },
    {
     "name": "stdout",
     "output_type": "stream",
     "text": [
      "\n"
     ]
    },
    {
     "name": "stdout",
     "output_type": "stream",
     "text": [
      "_________________________________________________________________"
     ]
    },
    {
     "name": "stdout",
     "output_type": "stream",
     "text": [
      "\n"
     ]
    },
    {
     "name": "stdout",
     "output_type": "stream",
     "text": [
      "activation_3 (Activation)    (None, 55, 55, 128)       0         "
     ]
    },
    {
     "name": "stdout",
     "output_type": "stream",
     "text": [
      "\n"
     ]
    },
    {
     "name": "stdout",
     "output_type": "stream",
     "text": [
      "_________________________________________________________________"
     ]
    },
    {
     "name": "stdout",
     "output_type": "stream",
     "text": [
      "\n"
     ]
    },
    {
     "name": "stdout",
     "output_type": "stream",
     "text": [
      "zero_padding2d_3 (ZeroPaddin (None, 57, 57, 128)       0         "
     ]
    },
    {
     "name": "stdout",
     "output_type": "stream",
     "text": [
      "\n"
     ]
    },
    {
     "name": "stdout",
     "output_type": "stream",
     "text": [
      "_________________________________________________________________"
     ]
    },
    {
     "name": "stdout",
     "output_type": "stream",
     "text": [
      "\n"
     ]
    },
    {
     "name": "stdout",
     "output_type": "stream",
     "text": [
      "conv2d_4 (Conv2D)            (None, 55, 55, 256)       295168    "
     ]
    },
    {
     "name": "stdout",
     "output_type": "stream",
     "text": [
      "\n"
     ]
    },
    {
     "name": "stdout",
     "output_type": "stream",
     "text": [
      "_________________________________________________________________"
     ]
    },
    {
     "name": "stdout",
     "output_type": "stream",
     "text": [
      "\n"
     ]
    },
    {
     "name": "stdout",
     "output_type": "stream",
     "text": [
      "activation_4 (Activation)    (None, 55, 55, 256)       0         "
     ]
    },
    {
     "name": "stdout",
     "output_type": "stream",
     "text": [
      "\n"
     ]
    },
    {
     "name": "stdout",
     "output_type": "stream",
     "text": [
      "_________________________________________________________________"
     ]
    },
    {
     "name": "stdout",
     "output_type": "stream",
     "text": [
      "\n"
     ]
    },
    {
     "name": "stdout",
     "output_type": "stream",
     "text": [
      "zero_padding2d_4 (ZeroPaddin (None, 57, 57, 256)       0         "
     ]
    },
    {
     "name": "stdout",
     "output_type": "stream",
     "text": [
      "\n"
     ]
    },
    {
     "name": "stdout",
     "output_type": "stream",
     "text": [
      "_________________________________________________________________"
     ]
    },
    {
     "name": "stdout",
     "output_type": "stream",
     "text": [
      "\n"
     ]
    },
    {
     "name": "stdout",
     "output_type": "stream",
     "text": [
      "conv2d_5 (Conv2D)            (None, 57, 57, 256)       65792     "
     ]
    },
    {
     "name": "stdout",
     "output_type": "stream",
     "text": [
      "\n"
     ]
    },
    {
     "name": "stdout",
     "output_type": "stream",
     "text": [
      "_________________________________________________________________"
     ]
    },
    {
     "name": "stdout",
     "output_type": "stream",
     "text": [
      "\n"
     ]
    },
    {
     "name": "stdout",
     "output_type": "stream",
     "text": [
      "activation_5 (Activation)    (None, 57, 57, 256)       0         "
     ]
    },
    {
     "name": "stdout",
     "output_type": "stream",
     "text": [
      "\n"
     ]
    },
    {
     "name": "stdout",
     "output_type": "stream",
     "text": [
      "_________________________________________________________________"
     ]
    },
    {
     "name": "stdout",
     "output_type": "stream",
     "text": [
      "\n"
     ]
    },
    {
     "name": "stdout",
     "output_type": "stream",
     "text": [
      "zero_padding2d_5 (ZeroPaddin (None, 59, 59, 256)       0         "
     ]
    },
    {
     "name": "stdout",
     "output_type": "stream",
     "text": [
      "\n"
     ]
    },
    {
     "name": "stdout",
     "output_type": "stream",
     "text": [
      "_________________________________________________________________"
     ]
    },
    {
     "name": "stdout",
     "output_type": "stream",
     "text": [
      "\n"
     ]
    },
    {
     "name": "stdout",
     "output_type": "stream",
     "text": [
      "conv2d_6 (Conv2D)            (None, 57, 57, 512)       1180160   "
     ]
    },
    {
     "name": "stdout",
     "output_type": "stream",
     "text": [
      "\n"
     ]
    },
    {
     "name": "stdout",
     "output_type": "stream",
     "text": [
      "_________________________________________________________________"
     ]
    },
    {
     "name": "stdout",
     "output_type": "stream",
     "text": [
      "\n"
     ]
    },
    {
     "name": "stdout",
     "output_type": "stream",
     "text": [
      "activation_6 (Activation)    (None, 57, 57, 512)       0         "
     ]
    },
    {
     "name": "stdout",
     "output_type": "stream",
     "text": [
      "\n"
     ]
    },
    {
     "name": "stdout",
     "output_type": "stream",
     "text": [
      "_________________________________________________________________"
     ]
    },
    {
     "name": "stdout",
     "output_type": "stream",
     "text": [
      "\n"
     ]
    },
    {
     "name": "stdout",
     "output_type": "stream",
     "text": [
      "zero_padding2d_6 (ZeroPaddin (None, 59, 59, 512)       0         "
     ]
    },
    {
     "name": "stdout",
     "output_type": "stream",
     "text": [
      "\n"
     ]
    },
    {
     "name": "stdout",
     "output_type": "stream",
     "text": [
      "_________________________________________________________________"
     ]
    },
    {
     "name": "stdout",
     "output_type": "stream",
     "text": [
      "\n"
     ]
    },
    {
     "name": "stdout",
     "output_type": "stream",
     "text": [
      "max_pooling2d_3 (MaxPooling2 (None, 29, 29, 512)       0         "
     ]
    },
    {
     "name": "stdout",
     "output_type": "stream",
     "text": [
      "\n"
     ]
    },
    {
     "name": "stdout",
     "output_type": "stream",
     "text": [
      "_________________________________________________________________"
     ]
    },
    {
     "name": "stdout",
     "output_type": "stream",
     "text": [
      "\n"
     ]
    },
    {
     "name": "stdout",
     "output_type": "stream",
     "text": [
      "conv2d_7 (Conv2D)            (None, 29, 29, 256)       131328    "
     ]
    },
    {
     "name": "stdout",
     "output_type": "stream",
     "text": [
      "\n"
     ]
    },
    {
     "name": "stdout",
     "output_type": "stream",
     "text": [
      "_________________________________________________________________"
     ]
    },
    {
     "name": "stdout",
     "output_type": "stream",
     "text": [
      "\n"
     ]
    },
    {
     "name": "stdout",
     "output_type": "stream",
     "text": [
      "activation_7 (Activation)    (None, 29, 29, 256)       0         "
     ]
    },
    {
     "name": "stdout",
     "output_type": "stream",
     "text": [
      "\n"
     ]
    },
    {
     "name": "stdout",
     "output_type": "stream",
     "text": [
      "_________________________________________________________________"
     ]
    },
    {
     "name": "stdout",
     "output_type": "stream",
     "text": [
      "\n"
     ]
    },
    {
     "name": "stdout",
     "output_type": "stream",
     "text": [
      "zero_padding2d_7 (ZeroPaddin (None, 31, 31, 256)       0         "
     ]
    },
    {
     "name": "stdout",
     "output_type": "stream",
     "text": [
      "\n"
     ]
    },
    {
     "name": "stdout",
     "output_type": "stream",
     "text": [
      "_________________________________________________________________"
     ]
    },
    {
     "name": "stdout",
     "output_type": "stream",
     "text": [
      "\n"
     ]
    },
    {
     "name": "stdout",
     "output_type": "stream",
     "text": [
      "conv2d_8 (Conv2D)            (None, 29, 29, 512)       1180160   "
     ]
    },
    {
     "name": "stdout",
     "output_type": "stream",
     "text": [
      "\n"
     ]
    },
    {
     "name": "stdout",
     "output_type": "stream",
     "text": [
      "_________________________________________________________________"
     ]
    },
    {
     "name": "stdout",
     "output_type": "stream",
     "text": [
      "\n"
     ]
    },
    {
     "name": "stdout",
     "output_type": "stream",
     "text": [
      "activation_8 (Activation)    (None, 29, 29, 512)       0         "
     ]
    },
    {
     "name": "stdout",
     "output_type": "stream",
     "text": [
      "\n"
     ]
    },
    {
     "name": "stdout",
     "output_type": "stream",
     "text": [
      "_________________________________________________________________"
     ]
    },
    {
     "name": "stdout",
     "output_type": "stream",
     "text": [
      "\n"
     ]
    },
    {
     "name": "stdout",
     "output_type": "stream",
     "text": [
      "zero_padding2d_8 (ZeroPaddin (None, 31, 31, 512)       0         "
     ]
    },
    {
     "name": "stdout",
     "output_type": "stream",
     "text": [
      "\n"
     ]
    },
    {
     "name": "stdout",
     "output_type": "stream",
     "text": [
      "_________________________________________________________________"
     ]
    },
    {
     "name": "stdout",
     "output_type": "stream",
     "text": [
      "\n"
     ]
    },
    {
     "name": "stdout",
     "output_type": "stream",
     "text": [
      "conv2d_9 (Conv2D)            (None, 31, 31, 256)       131328    "
     ]
    },
    {
     "name": "stdout",
     "output_type": "stream",
     "text": [
      "\n"
     ]
    },
    {
     "name": "stdout",
     "output_type": "stream",
     "text": [
      "_________________________________________________________________"
     ]
    },
    {
     "name": "stdout",
     "output_type": "stream",
     "text": [
      "\n"
     ]
    },
    {
     "name": "stdout",
     "output_type": "stream",
     "text": [
      "activation_9 (Activation)    (None, 31, 31, 256)       0         "
     ]
    },
    {
     "name": "stdout",
     "output_type": "stream",
     "text": [
      "\n"
     ]
    },
    {
     "name": "stdout",
     "output_type": "stream",
     "text": [
      "_________________________________________________________________"
     ]
    },
    {
     "name": "stdout",
     "output_type": "stream",
     "text": [
      "\n"
     ]
    },
    {
     "name": "stdout",
     "output_type": "stream",
     "text": [
      "zero_padding2d_9 (ZeroPaddin (None, 33, 33, 256)       0         "
     ]
    },
    {
     "name": "stdout",
     "output_type": "stream",
     "text": [
      "\n"
     ]
    },
    {
     "name": "stdout",
     "output_type": "stream",
     "text": [
      "_________________________________________________________________"
     ]
    },
    {
     "name": "stdout",
     "output_type": "stream",
     "text": [
      "\n"
     ]
    },
    {
     "name": "stdout",
     "output_type": "stream",
     "text": [
      "conv2d_10 (Conv2D)           (None, 31, 31, 512)       1180160   "
     ]
    },
    {
     "name": "stdout",
     "output_type": "stream",
     "text": [
      "\n"
     ]
    },
    {
     "name": "stdout",
     "output_type": "stream",
     "text": [
      "_________________________________________________________________"
     ]
    },
    {
     "name": "stdout",
     "output_type": "stream",
     "text": [
      "\n"
     ]
    },
    {
     "name": "stdout",
     "output_type": "stream",
     "text": [
      "activation_10 (Activation)   (None, 31, 31, 512)       0         "
     ]
    },
    {
     "name": "stdout",
     "output_type": "stream",
     "text": [
      "\n"
     ]
    },
    {
     "name": "stdout",
     "output_type": "stream",
     "text": [
      "_________________________________________________________________"
     ]
    },
    {
     "name": "stdout",
     "output_type": "stream",
     "text": [
      "\n"
     ]
    },
    {
     "name": "stdout",
     "output_type": "stream",
     "text": [
      "zero_padding2d_10 (ZeroPaddi (None, 33, 33, 512)       0         "
     ]
    },
    {
     "name": "stdout",
     "output_type": "stream",
     "text": [
      "\n"
     ]
    },
    {
     "name": "stdout",
     "output_type": "stream",
     "text": [
      "_________________________________________________________________"
     ]
    },
    {
     "name": "stdout",
     "output_type": "stream",
     "text": [
      "\n"
     ]
    },
    {
     "name": "stdout",
     "output_type": "stream",
     "text": [
      "conv2d_11 (Conv2D)           (None, 33, 33, 256)       131328    "
     ]
    }
   ],
   "source": [
    "#pdng.find_graphviz()\n",
    "#keras.utils.plot_model(model, to_file='D://COURSE_IMG')\n",
    "model.summary()"
   ]
  },
  {
   "cell_type": "code",
   "execution_count": null,
   "metadata": {},
   "outputs": [],
   "source": []
  }
 ],
 "metadata": {
  "kernelspec": {
   "display_name": "Python 2",
   "language": "python",
   "name": "python2"
  },
  "language_info": {
   "codemirror_mode": {
    "name": "ipython",
    "version": 2
   },
   "file_extension": ".py",
   "mimetype": "text/x-python",
   "name": "python",
   "nbconvert_exporter": "python",
   "pygments_lexer": "ipython2",
   "version": "2.7.6"
  }
 },
 "nbformat": 4,
 "nbformat_minor": 0
}
